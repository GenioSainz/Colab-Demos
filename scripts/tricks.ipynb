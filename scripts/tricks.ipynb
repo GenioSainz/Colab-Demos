{
 "cells": [
  {
   "cell_type": "code",
   "execution_count": 3,
   "metadata": {},
   "outputs": [],
   "source": [
    "import numpy as np"
   ]
  },
  {
   "cell_type": "markdown",
   "metadata": {},
   "source": [
    "### Matrix indexing: Modulo Operator vs Floor Division"
   ]
  },
  {
   "cell_type": "code",
   "execution_count": 12,
   "metadata": {},
   "outputs": [
    {
     "name": "stdout",
     "output_type": "stream",
     "text": [
      "[[0. 1. 2.]\n",
      " [0. 1. 2.]\n",
      " [0. 1. 2.]]\n",
      "[[0. 0. 0.]\n",
      " [1. 1. 1.]\n",
      " [2. 2. 2.]]\n"
     ]
    }
   ],
   "source": [
    "n = 3\n",
    "X = np.zeros((n,n))\n",
    "Y = np.zeros((n,n))\n",
    "\n",
    "for i in range(n*n):\n",
    "    row = i // n\n",
    "    col = i %  n\n",
    "    X[row,col] = col\n",
    "    Y[row,col] = row\n",
    "\n",
    "print(X);print(Y)"
   ]
  },
  {
   "cell_type": "markdown",
   "metadata": {},
   "source": [
    "### Matrix fill using Zip"
   ]
  },
  {
   "cell_type": "code",
   "execution_count": 7,
   "metadata": {},
   "outputs": [
    {
     "name": "stdout",
     "output_type": "stream",
     "text": [
      "124 ms ± 2.55 ms per loop (mean ± std. dev. of 7 runs, 10 loops each)\n",
      "176 ms ± 1.82 ms per loop (mean ± std. dev. of 7 runs, 10 loops each)\n"
     ]
    }
   ],
   "source": [
    "\n",
    "def fill_matrix_1(Ny,Nx):\n",
    "    x   = np.linspace(0,100,Nx) # Ncols\n",
    "    y   = np.linspace(0,100,Ny) # Nrows\n",
    "    X,Y = np.meshgrid(x,y)\n",
    "    C   = np.random.rand(Ny,Nx)\n",
    "    M   = np.zeros_like(X)\n",
    "    for row in range(Ny):\n",
    "        for col in range(Nx):\n",
    "            M[row,col] = x[col]*y[row]*C[row,col]\n",
    "\n",
    "    return X,Y,M\n",
    "\n",
    "def fill_matrix_2(Nx,Ny):\n",
    "    x   = np.linspace(0,100,Nx) # Ncols\n",
    "    y   = np.linspace(0,100,Ny) # Nrows\n",
    "    X,Y = np.meshgrid(x,y)\n",
    "    C   = np.random.rand(Ny,Nx)\n",
    "    M   = []\n",
    "    for x,y,c in zip(X.flatten(),Y.flatten(),C.flatten()):\n",
    "            M.append(x*y*c)\n",
    "    \n",
    "    return X,Y,np.reshape(M,(Ny,Nx))\n",
    "\n",
    "k   = 100\n",
    "Nx  = 7*k\n",
    "Ny  = 5*k\n",
    "\n",
    "# %timeit fill_matrix_1(Nx,Ny)\n",
    "# %timeit fill_matrix_2(Nx,Ny)\n"
   ]
  }
 ],
 "metadata": {
  "kernelspec": {
   "display_name": "Python 3",
   "language": "python",
   "name": "python3"
  },
  "language_info": {
   "codemirror_mode": {
    "name": "ipython",
    "version": 3
   },
   "file_extension": ".py",
   "mimetype": "text/x-python",
   "name": "python",
   "nbconvert_exporter": "python",
   "pygments_lexer": "ipython3",
   "version": "3.12.1"
  }
 },
 "nbformat": 4,
 "nbformat_minor": 2
}
