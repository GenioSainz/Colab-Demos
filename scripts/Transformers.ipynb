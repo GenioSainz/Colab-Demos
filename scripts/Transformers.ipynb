{
 "cells": [
  {
   "cell_type": "code",
   "execution_count": 26,
   "metadata": {},
   "outputs": [],
   "source": [
    "import matplotlib.pyplot as plt\n",
    "import numpy as np\n",
    "\n",
    "\n",
    "%matplotlib widget\n",
    "plt.ioff()\n",
    "\n",
    "def plot_sets(ax,gr=False,ti='',xla=False,yla=False,zla=False,xli=False,yli=False,zli=False,ticks_off=False,xticks_off=False,yticks_off=False,zticks_off=False, ba=False, ar=False,leg=False,view=False):\n",
    "    \n",
    "    ax.set_title(ti)\n",
    "    if gr:  ax.grid(gr);ax.set_axisbelow(True)\n",
    "    if xla: ax.set_xlabel(xla)\n",
    "    if yla: ax.set_ylabel(yla)\n",
    "    if zla: ax.set_zlabel(zla)\n",
    "\n",
    "    if xticks_off: ax.set_xticklabels([])\n",
    "    if yticks_off: ax.set_yticklabels([])\n",
    "    if zticks_off: ax.set_zticklabels([])\n",
    "\n",
    "    if   ticks_off==1: ax.set_xticklabels([]); ax.set_xticks([]);ax.set_yticklabels([]); ax.set_yticks([])\n",
    "    elif ticks_off==2: ax.set_xticklabels([]); ax.set_xticks([])\n",
    "    elif ticks_off==2: ax.set_yticklabels([]); ax.set_yticks([])\n",
    "\n",
    "    if ba: ax.set_box_aspect(ba)\n",
    "    if ar: ax.set_aspect(ar)\n",
    "\n",
    "    if xli: ax.set_xlim(xli)\n",
    "    if yli: ax.set_ylim(yli)\n",
    "    if zli: ax.set_zlim(zli)\n",
    "\n",
    "    if leg: ax.legend(**leg)\n",
    "\n",
    "    if view:ax.view_init(**view)\n",
    "\n",
    "SMALL_SIZE  = 8\n",
    "MEDIUM_SIZE = 10\n",
    "\n",
    "# title\n",
    "plt.rc('axes',titlesize=MEDIUM_SIZE,titleweight='bold')\n",
    "# xy-labells\n",
    "plt.rc('axes',labelsize=SMALL_SIZE)\n",
    "# xy-ticks\n",
    "plt.rc('xtick',labelsize=SMALL_SIZE)\n",
    "plt.rc('ytick',labelsize=SMALL_SIZE)\n",
    "    \n",
    "px2inch = 1/plt.rcParams['figure.dpi']"
   ]
  },
  {
   "cell_type": "code",
   "execution_count": 30,
   "metadata": {},
   "outputs": [
    {
     "name": "stdout",
     "output_type": "stream",
     "text": [
      "X [[0.6198117  0.35291359 0.23397113]\n",
      " [0.77823638 0.13581714 0.24669742]\n",
      " [0.19372972 0.52184468 0.43077159]\n",
      " [0.79683575 0.86917759 0.26448975]] (4, 3)\n",
      "V [[-1.91960226 -2.28558063 -1.73881039]\n",
      " [-0.30624808  0.16231124 -1.12144942]\n",
      " [ 1.79843141  0.63631607  1.03447964]\n",
      " [-0.50643762  0.01965505 -0.06954999]] (4, 3)\n",
      "A [[0.47952566 0.56051781 0.43473246]\n",
      " [0.16341823 0.23731716 0.32525828]\n",
      " [0.35705611 0.20216503 0.24000926]] (3, 3)\n",
      "SA [[-1.91485696 -1.96990542 -1.99524804]\n",
      " [-0.52074956 -0.35985611 -0.34950115]\n",
      " [ 1.33574693  1.36819717  1.23708827]\n",
      " [-0.26447109 -0.2932634  -0.23046454]] (4, 3)\n"
     ]
    }
   ],
   "source": [
    "def rand_mats(D,N):\n",
    "    X = np.random.rand(D,N)\n",
    "    W = np.random.randn(D,D)\n",
    "    B = np.random.randn(D,1)\n",
    "    return W,B,X\n",
    "\n",
    "def linear_trans(X,W,B):\n",
    "    return W@X + B\n",
    "\n",
    "def soft_max_cols(mat):\n",
    "    D,_     = mat.shape\n",
    "    mat     = mat/np.sqrt(D)\n",
    "    mat_exp = np.exp(mat)\n",
    "    return mat_exp/np.sum(mat_exp,axis=0)\n",
    "\n",
    "\n",
    "D = 4   # Embedding length\n",
    "N = 3   # No words\n",
    "#############################\n",
    "\n",
    "_,_,X   = rand_mats(D,N)\n",
    "Wq,Bq,_ = rand_mats(D,N)\n",
    "Wk,Bk,_ = rand_mats(D,N)\n",
    "Wv,Bv,_ = rand_mats(D,N)\n",
    "\n",
    "Q  = linear_trans(X,Wq,Bq)\n",
    "K  = linear_trans(X,Wk,Bk)\n",
    "V  = linear_trans(X,Wv,Bv)\n",
    "A  = soft_max_cols(K.T@Q)\n",
    "SA = V @ A\n",
    "\n",
    "print('X' ,X,X.shape)\n",
    "print('V' ,V,V.shape)\n",
    "print('A' ,A,A.shape)\n",
    "print('SA',SA,SA.shape)\n",
    "\n"
   ]
  },
  {
   "cell_type": "code",
   "execution_count": 241,
   "metadata": {},
   "outputs": [
    {
     "name": "stdout",
     "output_type": "stream",
     "text": [
      "[[2.48583343e-01 2.31811560e-02 2.89564943e-04 1.34147623e-02]\n",
      " [7.51119424e-01 7.13111717e-02 9.99063233e-01 6.91201453e-02]\n",
      " [2.97233321e-04 9.05507672e-01 6.47202005e-04 9.17465092e-01]]\n",
      "\n",
      "[[0.34316545 0.08919229 0.00885808 0.0664734 ]\n",
      " [0.64978324 0.17064251 0.9770489  0.17129069]\n",
      " [0.00705131 0.74016521 0.01409303 0.76223591]]\n"
     ]
    }
   ],
   "source": [
    "def soft_max_cols(mat,scaling=True):\n",
    "\n",
    "    D,_     = mat.shape\n",
    "    if scaling: mat = mat/np.sqrt(D)\n",
    "\n",
    "    mat_exp = np.exp(mat)\n",
    "    return mat_exp/np.sum(mat_exp,axis=0)\n",
    "\n",
    "mat0 = np.random.rand(3,4)*10\n",
    "mat1 = soft_max_cols(mat0,scaling=False)\n",
    "mat2 = soft_max_cols(mat0,scaling=True )\n",
    "\n",
    "print(mat1)\n",
    "print('')\n",
    "print(mat2)\n"
   ]
  }
 ],
 "metadata": {
  "kernelspec": {
   "display_name": "Python 3",
   "language": "python",
   "name": "python3"
  },
  "language_info": {
   "codemirror_mode": {
    "name": "ipython",
    "version": 3
   },
   "file_extension": ".py",
   "mimetype": "text/x-python",
   "name": "python",
   "nbconvert_exporter": "python",
   "pygments_lexer": "ipython3",
   "version": "3.12.1"
  }
 },
 "nbformat": 4,
 "nbformat_minor": 2
}
